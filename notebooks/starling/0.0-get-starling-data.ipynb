{
 "cells": [
  {
   "cell_type": "code",
   "execution_count": 19,
   "metadata": {
    "ExecuteTime": {
     "end_time": "2019-02-20T21:04:54.260956Z",
     "start_time": "2019-02-20T21:04:54.255692Z"
    }
   },
   "outputs": [],
   "source": [
    "import os\n",
    "import shutil\n",
    "import os"
   ]
  },
  {
   "cell_type": "markdown",
   "metadata": {},
   "source": [
    "### Make the data directory"
   ]
  },
  {
   "cell_type": "code",
   "execution_count": 1,
   "metadata": {
    "ExecuteTime": {
     "end_time": "2019-02-20T20:43:33.873755Z",
     "start_time": "2019-02-20T20:43:33.744129Z"
    }
   },
   "outputs": [
    {
     "name": "stdout",
     "output_type": "stream",
     "text": [
      "mkdir: cannot create directory ‘../../data’: File exists\r\n"
     ]
    }
   ],
   "source": [
    "!mkdir ../../data"
   ]
  },
  {
   "cell_type": "markdown",
   "metadata": {},
   "source": [
    "### Download the atlas"
   ]
  },
  {
   "cell_type": "code",
   "execution_count": 5,
   "metadata": {
    "ExecuteTime": {
     "end_time": "2019-02-20T20:48:10.674239Z",
     "start_time": "2019-02-20T20:47:29.784695Z"
    }
   },
   "outputs": [
    {
     "name": "stdout",
     "output_type": "stream",
     "text": [
      "--2019-02-20 12:47:29--  http://uahost.uantwerpen.be/bioimaginglab/starling.zip\n",
      "Resolving dsspublic.ucsd.edu (dsspublic.ucsd.edu)... 132.239.147.118\n",
      "Connecting to dsspublic.ucsd.edu (dsspublic.ucsd.edu)|132.239.147.118|:3128... connected.\n",
      "Proxy request sent, awaiting response... 200 OK\n",
      "Length: 296499157 (283M) [application/x-zip-compressed]\n",
      "Saving to: ‘uahost.uantwerpen.be/bioimaginglab/starling.zip’\n",
      "\n",
      "maginglab/starling.   0%[                    ] 887.78K  26.1KB/s    eta 3h 35m ^C\n"
     ]
    }
   ],
   "source": [
    "wget http://uahost.uantwerpen.be/bioimaginglab/starling.zip -O ../../data/raw/starling.zip"
   ]
  },
  {
   "cell_type": "markdown",
   "metadata": {},
   "source": [
    "### Unzip the data"
   ]
  },
  {
   "cell_type": "code",
   "execution_count": 7,
   "metadata": {
    "ExecuteTime": {
     "end_time": "2019-02-20T20:57:30.908967Z",
     "start_time": "2019-02-20T20:57:21.358859Z"
    }
   },
   "outputs": [
    {
     "name": "stdout",
     "output_type": "stream",
     "text": [
      "Archive:  ../../data/raw/starling.zip\n",
      "   creating: ../../data/raw/ATLAS_starling/\n",
      "  inflating: ../../data/raw/ATLAS_starling/.DS_Store  \n",
      "   creating: ../../data/raw/__MACOSX/\n",
      "   creating: ../../data/raw/__MACOSX/ATLAS_starling/\n",
      "  inflating: ../../data/raw/__MACOSX/ATLAS_starling/._.DS_Store  \n",
      "  inflating: ../../data/raw/ATLAS_starling/CT.hdr  \n",
      "  inflating: ../../data/raw/ATLAS_starling/CT.img  \n",
      "   creating: ../../data/raw/ATLAS_starling/delineations/\n",
      "  inflating: ../../data/raw/ATLAS_starling/delineations/.DS_Store  \n",
      "   creating: ../../data/raw/__MACOSX/ATLAS_starling/delineations/\n",
      "  inflating: ../../data/raw/__MACOSX/ATLAS_starling/delineations/._.DS_Store  \n",
      "  inflating: ../../data/raw/ATLAS_starling/delineations/Brain.am  \n",
      "  inflating: ../../data/raw/ATLAS_starling/delineations/Brain.hdr  \n",
      "  inflating: ../../data/raw/ATLAS_starling/delineations/Brain.img  \n",
      "  inflating: ../../data/raw/ATLAS_starling/delineations/Brainregions.am  \n",
      "  inflating: ../../data/raw/ATLAS_starling/delineations/Brainregions.hdr  \n",
      "  inflating: ../../data/raw/ATLAS_starling/delineations/Brainregions.img  \n",
      "  inflating: ../../data/raw/ATLAS_starling/delineations/Brainregions.txt  \n",
      "  inflating: ../../data/raw/ATLAS_starling/delineations/Nuclei.am  \n",
      "  inflating: ../../data/raw/ATLAS_starling/delineations/Nuclei.hdr  \n",
      "  inflating: ../../data/raw/ATLAS_starling/delineations/Nuclei.img  \n",
      "  inflating: ../../data/raw/ATLAS_starling/delineations/Nuclei.txt  \n",
      "  inflating: ../../data/raw/ATLAS_starling/delineations/Tracts.am  \n",
      "  inflating: ../../data/raw/ATLAS_starling/delineations/Tracts.hdr  \n",
      "  inflating: ../../data/raw/ATLAS_starling/delineations/Tracts.img  \n",
      "  inflating: ../../data/raw/ATLAS_starling/delineations/Tracts.txt  \n",
      "  inflating: ../../data/raw/ATLAS_starling/delineations/Ventricle.am  \n",
      "  inflating: ../../data/raw/ATLAS_starling/delineations/Ventricle.hdr  \n",
      "  inflating: ../../data/raw/ATLAS_starling/delineations/Ventricle.img  \n",
      "  inflating: ../../data/raw/ATLAS_starling/PD.hdr  \n",
      "  inflating: ../../data/raw/ATLAS_starling/PD.img  \n",
      "  inflating: ../../data/raw/ATLAS_starling/T2.hdr  \n",
      "  inflating: ../../data/raw/ATLAS_starling/T2.img  \n",
      "  inflating: ../../data/raw/ATLAS_starling/T2star_HR.hdr  \n",
      "  inflating: ../../data/raw/ATLAS_starling/T2star_HR.img  \n"
     ]
    }
   ],
   "source": [
    "!unzip ../../data/raw/starling.zip -d ../../data/raw/"
   ]
  },
  {
   "cell_type": "code",
   "execution_count": 10,
   "metadata": {
    "ExecuteTime": {
     "end_time": "2019-02-20T20:58:36.170768Z",
     "start_time": "2019-02-20T20:58:36.048676Z"
    }
   },
   "outputs": [
    {
     "name": "stdout",
     "output_type": "stream",
     "text": [
      "external  interim  processed  raw\r\n"
     ]
    }
   ],
   "source": [
    "!ls ../../data/"
   ]
  },
  {
   "cell_type": "markdown",
   "metadata": {
    "ExecuteTime": {
     "end_time": "2019-02-20T20:46:48.827846Z",
     "start_time": "2019-02-20T20:46:48.708554Z"
    }
   },
   "source": [
    "### prepare to make data in processed"
   ]
  },
  {
   "cell_type": "code",
   "execution_count": 12,
   "metadata": {
    "ExecuteTime": {
     "end_time": "2019-02-20T21:01:01.597020Z",
     "start_time": "2019-02-20T21:01:01.473197Z"
    }
   },
   "outputs": [
    {
     "name": "stdout",
     "output_type": "stream",
     "text": [
      "mkdir: cannot create directory ‘../../data/processed/delineations/’: File exists\r\n"
     ]
    }
   ],
   "source": [
    "!mkdir ../../data/processed/delineations/"
   ]
  },
  {
   "cell_type": "code",
   "execution_count": 15,
   "metadata": {
    "ExecuteTime": {
     "end_time": "2019-02-20T21:03:16.331988Z",
     "start_time": "2019-02-20T21:03:16.323214Z"
    }
   },
   "outputs": [
    {
     "data": {
      "text/plain": [
       "['../../data/raw/ATLAS_starling/delineations/Brainregions.img',\n",
       " '../../data/raw/ATLAS_starling/delineations/Tracts.img',\n",
       " '../../data/raw/ATLAS_starling/delineations/Nuclei.img',\n",
       " '../../data/raw/ATLAS_starling/delineations/Ventricle.img',\n",
       " '../../data/raw/ATLAS_starling/delineations/Brain.img']"
      ]
     },
     "execution_count": 15,
     "metadata": {},
     "output_type": "execute_result"
    }
   ],
   "source": [
    "delineation_data = glob('../../data/raw/ATLAS_starling/delineations/*.img')\n",
    "delineation_data"
   ]
  },
  {
   "cell_type": "code",
   "execution_count": 26,
   "metadata": {
    "ExecuteTime": {
     "end_time": "2019-02-20T21:07:37.073236Z",
     "start_time": "2019-02-20T21:07:37.064611Z"
    }
   },
   "outputs": [],
   "source": [
    "# move the delineation files\n",
    "for img in delineation_data:\n",
    "    shutil.move(img, '../../data/processed/delineations/'+os.path.basename(img))"
   ]
  },
  {
   "cell_type": "code",
   "execution_count": 28,
   "metadata": {
    "ExecuteTime": {
     "end_time": "2019-02-20T21:11:29.008006Z",
     "start_time": "2019-02-20T21:11:28.999458Z"
    }
   },
   "outputs": [
    {
     "data": {
      "text/plain": [
       "['../../data/raw/ATLAS_starling/CT.img',\n",
       " '../../data/raw/ATLAS_starling/T2.img',\n",
       " '../../data/raw/ATLAS_starling/T2star_HR.img',\n",
       " '../../data/raw/ATLAS_starling/PD.img']"
      ]
     },
     "execution_count": 28,
     "metadata": {},
     "output_type": "execute_result"
    }
   ],
   "source": [
    "img_data = glob('../../data/raw/ATLAS_starling/*.img')\n",
    "img_data"
   ]
  },
  {
   "cell_type": "code",
   "execution_count": 29,
   "metadata": {
    "ExecuteTime": {
     "end_time": "2019-02-20T21:11:41.792718Z",
     "start_time": "2019-02-20T21:11:41.784108Z"
    }
   },
   "outputs": [],
   "source": [
    "# move the delineation files\n",
    "for img in img_data:\n",
    "    shutil.move(img, '../../data/processed/'+os.path.basename(img))"
   ]
  },
  {
   "cell_type": "code",
   "execution_count": null,
   "metadata": {},
   "outputs": [],
   "source": []
  }
 ],
 "metadata": {
  "kernelspec": {
   "display_name": "Python 3",
   "language": "python",
   "name": "python3"
  },
  "language_info": {
   "codemirror_mode": {
    "name": "ipython",
    "version": 3
   },
   "file_extension": ".py",
   "mimetype": "text/x-python",
   "name": "python",
   "nbconvert_exporter": "python",
   "pygments_lexer": "ipython3",
   "version": "3.6.8"
  }
 },
 "nbformat": 4,
 "nbformat_minor": 2
}
