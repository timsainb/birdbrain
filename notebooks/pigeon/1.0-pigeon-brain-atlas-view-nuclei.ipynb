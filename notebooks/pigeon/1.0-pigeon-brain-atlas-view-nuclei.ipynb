{
 "cells": [
  {
   "cell_type": "code",
   "execution_count": 1,
   "metadata": {
    "ExecuteTime": {
     "end_time": "2019-03-15T21:37:13.941144Z",
     "start_time": "2019-03-15T21:37:11.881901Z"
    }
   },
   "outputs": [
    {
     "name": "stderr",
     "output_type": "stream",
     "text": [
      "/mnt/cube/tsainbur/conda_envs/tpy3/lib/python3.6/site-packages/tqdm/autonotebook/__init__.py:14: TqdmExperimentalWarning: Using `tqdm.autonotebook.tqdm` in notebook mode. Use `tqdm.tqdm` instead to force console mode (e.g. in jupyter console)\n",
      "  \" (e.g. in jupyter console)\", TqdmExperimentalWarning)\n"
     ]
    }
   ],
   "source": [
    "from birdbrain.atlas import atlas\n",
    "from birdbrain.utils import um_to_vox\n",
    "import numpy as np\n",
    "from birdbrain.visualization.plotting_2d import widget_controllers_2d"
   ]
  },
  {
   "cell_type": "markdown",
   "metadata": {},
   "source": [
    "### Load data, create atlas object"
   ]
  },
  {
   "cell_type": "code",
   "execution_count": 2,
   "metadata": {
    "ExecuteTime": {
     "end_time": "2019-03-15T21:37:13.951039Z",
     "start_time": "2019-03-15T21:37:13.948112Z"
    }
   },
   "outputs": [],
   "source": [
    "regions_to_smooth = ['Arcopallium', 'Auditory1', 'Auditory2', 'Olfactory',\n",
    "       'Somatosensory_spinal_system_and_body_representation',\n",
    "       'Somatosensory_trigeminal', 'Somatosensory_wulst', 'Visual_aos',\n",
    "       'Visual_isthmic', 'Visual_thalamofugal', 'Visual_wulst'] + ['Brain']"
   ]
  },
  {
   "cell_type": "code",
   "execution_count": 3,
   "metadata": {
    "ExecuteTime": {
     "end_time": "2019-03-15T21:37:50.612270Z",
     "start_time": "2019-03-15T21:37:13.952633Z"
    }
   },
   "outputs": [
    {
     "name": "stdout",
     "output_type": "stream",
     "text": [
      "Data already download\n",
      "Getting voxel data from .img files...\n"
     ]
    },
    {
     "data": {
      "application/vnd.jupyter.widget-view+json": {
       "model_id": "",
       "version_major": 2,
       "version_minor": 0
      },
      "text/plain": [
       "HBox(children=(IntProgress(value=0, max=4), HTML(value='')))"
      ]
     },
     "metadata": {},
     "output_type": "display_data"
    },
    {
     "name": "stdout",
     "output_type": "stream",
     "text": [
      "\r"
     ]
    },
    {
     "data": {
      "application/vnd.jupyter.widget-view+json": {
       "model_id": "",
       "version_major": 2,
       "version_minor": 0
      },
      "text/plain": [
       "HBox(children=(IntProgress(value=0, max=6), HTML(value='')))"
      ]
     },
     "metadata": {},
     "output_type": "display_data"
    },
    {
     "name": "stdout",
     "output_type": "stream",
     "text": [
      "\r"
     ]
    },
    {
     "data": {
      "application/vnd.jupyter.widget-view+json": {
       "model_id": "",
       "version_major": 2,
       "version_minor": 0
      },
      "text/plain": [
       "HBox(children=(IntProgress(value=0, max=3), HTML(value='')))"
      ]
     },
     "metadata": {},
     "output_type": "display_data"
    },
    {
     "name": "stdout",
     "output_type": "stream",
     "text": [
      "\r"
     ]
    },
    {
     "data": {
      "application/vnd.jupyter.widget-view+json": {
       "model_id": "",
       "version_major": 2,
       "version_minor": 0
      },
      "text/plain": [
       "HBox(children=(IntProgress(value=0, max=3), HTML(value='')))"
      ]
     },
     "metadata": {},
     "output_type": "display_data"
    },
    {
     "name": "stdout",
     "output_type": "stream",
     "text": [
      "\r"
     ]
    },
    {
     "data": {
      "application/vnd.jupyter.widget-view+json": {
       "model_id": "",
       "version_major": 2,
       "version_minor": 0
      },
      "text/plain": [
       "HBox(children=(IntProgress(value=0, max=3), HTML(value='')))"
      ]
     },
     "metadata": {},
     "output_type": "display_data"
    },
    {
     "name": "stdout",
     "output_type": "stream",
     "text": [
      "\r"
     ]
    },
    {
     "data": {
      "application/vnd.jupyter.widget-view+json": {
       "model_id": "",
       "version_major": 2,
       "version_minor": 0
      },
      "text/plain": [
       "HBox(children=(IntProgress(value=0, max=2), HTML(value='')))"
      ]
     },
     "metadata": {},
     "output_type": "display_data"
    },
    {
     "name": "stdout",
     "output_type": "stream",
     "text": [
      "\r"
     ]
    },
    {
     "data": {
      "application/vnd.jupyter.widget-view+json": {
       "model_id": "",
       "version_major": 2,
       "version_minor": 0
      },
      "text/plain": [
       "HBox(children=(IntProgress(value=0, max=2), HTML(value='')))"
      ]
     },
     "metadata": {},
     "output_type": "display_data"
    },
    {
     "name": "stdout",
     "output_type": "stream",
     "text": [
      "\r"
     ]
    },
    {
     "data": {
      "application/vnd.jupyter.widget-view+json": {
       "model_id": "",
       "version_major": 2,
       "version_minor": 0
      },
      "text/plain": [
       "HBox(children=(IntProgress(value=0, max=2), HTML(value='')))"
      ]
     },
     "metadata": {},
     "output_type": "display_data"
    },
    {
     "name": "stdout",
     "output_type": "stream",
     "text": [
      "\r"
     ]
    },
    {
     "data": {
      "application/vnd.jupyter.widget-view+json": {
       "model_id": "",
       "version_major": 2,
       "version_minor": 0
      },
      "text/plain": [
       "HBox(children=(IntProgress(value=0, max=3), HTML(value='')))"
      ]
     },
     "metadata": {},
     "output_type": "display_data"
    },
    {
     "name": "stdout",
     "output_type": "stream",
     "text": [
      "\r"
     ]
    },
    {
     "data": {
      "application/vnd.jupyter.widget-view+json": {
       "model_id": "",
       "version_major": 2,
       "version_minor": 0
      },
      "text/plain": [
       "HBox(children=(IntProgress(value=0, max=3), HTML(value='')))"
      ]
     },
     "metadata": {},
     "output_type": "display_data"
    },
    {
     "name": "stdout",
     "output_type": "stream",
     "text": [
      "\r"
     ]
    },
    {
     "data": {
      "application/vnd.jupyter.widget-view+json": {
       "model_id": "",
       "version_major": 2,
       "version_minor": 0
      },
      "text/plain": [
       "HBox(children=(IntProgress(value=0, max=2), HTML(value='')))"
      ]
     },
     "metadata": {},
     "output_type": "display_data"
    },
    {
     "name": "stdout",
     "output_type": "stream",
     "text": [
      "\r"
     ]
    },
    {
     "data": {
      "application/vnd.jupyter.widget-view+json": {
       "model_id": "",
       "version_major": 2,
       "version_minor": 0
      },
      "text/plain": [
       "HBox(children=(IntProgress(value=0, max=1), HTML(value='')))"
      ]
     },
     "metadata": {},
     "output_type": "display_data"
    },
    {
     "name": "stdout",
     "output_type": "stream",
     "text": [
      "\r",
      "Getting location for each nucleus/region from voxel data...\n"
     ]
    },
    {
     "data": {
      "application/vnd.jupyter.widget-view+json": {
       "model_id": "",
       "version_major": 2,
       "version_minor": 0
      },
      "text/plain": [
       "HBox(children=(IntProgress(value=0, max=32), HTML(value='')))"
      ]
     },
     "metadata": {},
     "output_type": "display_data"
    },
    {
     "name": "stdout",
     "output_type": "stream",
     "text": [
      "\r",
      "Atlas created\n"
     ]
    }
   ],
   "source": [
    "dset_dir = '../../data/processed/pigeon/'\n",
    "\n",
    "pigeon_atlas = atlas(\n",
    "    species = 'pigeon',\n",
    "    dset_dir = dset_dir,\n",
    "    um_mult = 1,\n",
    "    smoothing = regions_to_smooth,\n",
    "    updated_y_sinus = [0, 0, 0]\n",
    ")"
   ]
  },
  {
   "cell_type": "code",
   "execution_count": 9,
   "metadata": {
    "ExecuteTime": {
     "end_time": "2019-03-15T21:41:10.194904Z",
     "start_time": "2019-03-15T21:41:10.177664Z"
    }
   },
   "outputs": [
    {
     "data": {
      "text/html": [
       "<div>\n",
       "<style scoped>\n",
       "    .dataframe tbody tr th:only-of-type {\n",
       "        vertical-align: middle;\n",
       "    }\n",
       "\n",
       "    .dataframe tbody tr th {\n",
       "        vertical-align: top;\n",
       "    }\n",
       "\n",
       "    .dataframe thead th {\n",
       "        text-align: right;\n",
       "    }\n",
       "</style>\n",
       "<table border=\"1\" class=\"dataframe\">\n",
       "  <thead>\n",
       "    <tr style=\"text-align: right;\">\n",
       "      <th></th>\n",
       "      <th>type_</th>\n",
       "    </tr>\n",
       "  </thead>\n",
       "  <tbody>\n",
       "    <tr>\n",
       "      <th>Slu-ipc-imc-left</th>\n",
       "      <td>Slu-ipc-imc-left</td>\n",
       "    </tr>\n",
       "    <tr>\n",
       "      <th>Rotundus</th>\n",
       "      <td>Rotundus</td>\n",
       "    </tr>\n",
       "    <tr>\n",
       "      <th>Tectum-right</th>\n",
       "      <td>Tectum-right</td>\n",
       "    </tr>\n",
       "    <tr>\n",
       "      <th>Wulst_ha_hi_hd-frontal-from-a13</th>\n",
       "      <td>Wulst_ha_hi_hd-frontal-from-a13</td>\n",
       "    </tr>\n",
       "    <tr>\n",
       "      <th>Gld-and-rotundus</th>\n",
       "      <td>Gld-and-rotundus</td>\n",
       "    </tr>\n",
       "    <tr>\n",
       "      <th>Nbor-lentiformis-mesencephali</th>\n",
       "      <td>Nbor-lentiformis-mesencephali</td>\n",
       "    </tr>\n",
       "    <tr>\n",
       "      <th>Isthmo-opticus</th>\n",
       "      <td>Isthmo-opticus</td>\n",
       "    </tr>\n",
       "    <tr>\n",
       "      <th>Gc_dlp_diva</th>\n",
       "      <td>Gc_dlp_diva</td>\n",
       "    </tr>\n",
       "    <tr>\n",
       "      <th>Entopallium</th>\n",
       "      <td>Entopallium</td>\n",
       "    </tr>\n",
       "    <tr>\n",
       "      <th>Prv-and-basalis</th>\n",
       "      <td>Prv-and-basalis</td>\n",
       "    </tr>\n",
       "    <tr>\n",
       "      <th>Nucleus-taeniae</th>\n",
       "      <td>Nucleus-taeniae</td>\n",
       "    </tr>\n",
       "    <tr>\n",
       "      <th>Slu-ipc-imc-right</th>\n",
       "      <td>Slu-ipc-imc-right</td>\n",
       "    </tr>\n",
       "    <tr>\n",
       "      <th>N-pontis-medialis</th>\n",
       "      <td>N-pontis-medialis</td>\n",
       "    </tr>\n",
       "    <tr>\n",
       "      <th>Brainsurface_right</th>\n",
       "      <td>Brainsurface_right</td>\n",
       "    </tr>\n",
       "    <tr>\n",
       "      <th>Tectum-left</th>\n",
       "      <td>Tectum-left</td>\n",
       "    </tr>\n",
       "    <tr>\n",
       "      <th>Brainsurface_left</th>\n",
       "      <td>Brainsurface_left</td>\n",
       "    </tr>\n",
       "    <tr>\n",
       "      <th>Visual-wulst_ha_hi_hd-until-a13</th>\n",
       "      <td>Visual-wulst_ha_hi_hd-until-a13</td>\n",
       "    </tr>\n",
       "    <tr>\n",
       "      <th>Ct</th>\n",
       "      <td>Ct</td>\n",
       "    </tr>\n",
       "    <tr>\n",
       "      <th>T2</th>\n",
       "      <td>T2</td>\n",
       "    </tr>\n",
       "    <tr>\n",
       "      <th>T2star</th>\n",
       "      <td>T2star</td>\n",
       "    </tr>\n",
       "    <tr>\n",
       "      <th>Auditory1</th>\n",
       "      <td>Auditory1</td>\n",
       "    </tr>\n",
       "    <tr>\n",
       "      <th>Auditory2</th>\n",
       "      <td>Auditory2</td>\n",
       "    </tr>\n",
       "    <tr>\n",
       "      <th>Olfactory</th>\n",
       "      <td>Olfactory</td>\n",
       "    </tr>\n",
       "    <tr>\n",
       "      <th>Visual_thalamofugal</th>\n",
       "      <td>Visual_thalamofugal</td>\n",
       "    </tr>\n",
       "    <tr>\n",
       "      <th>Somatosensory_wulst</th>\n",
       "      <td>Somatosensory_wulst</td>\n",
       "    </tr>\n",
       "    <tr>\n",
       "      <th>Somatosensory_spinal_system_and_body_representation</th>\n",
       "      <td>Somatosensory_spinal_system_and_body_represent...</td>\n",
       "    </tr>\n",
       "    <tr>\n",
       "      <th>Somatosensory_trigeminal</th>\n",
       "      <td>Somatosensory_trigeminal</td>\n",
       "    </tr>\n",
       "    <tr>\n",
       "      <th>Hippocampus</th>\n",
       "      <td>Hippocampus</td>\n",
       "    </tr>\n",
       "    <tr>\n",
       "      <th>Visual_isthmic</th>\n",
       "      <td>Visual_isthmic</td>\n",
       "    </tr>\n",
       "    <tr>\n",
       "      <th>Arcopallium</th>\n",
       "      <td>Arcopallium</td>\n",
       "    </tr>\n",
       "    <tr>\n",
       "      <th>Visual_wulst</th>\n",
       "      <td>Visual_wulst</td>\n",
       "    </tr>\n",
       "    <tr>\n",
       "      <th>Visual_aos</th>\n",
       "      <td>Visual_aos</td>\n",
       "    </tr>\n",
       "    <tr>\n",
       "      <th>Brain</th>\n",
       "      <td>Brain</td>\n",
       "    </tr>\n",
       "    <tr>\n",
       "      <th>Nucleus_taeniae</th>\n",
       "      <td>Nucleus_taeniae</td>\n",
       "    </tr>\n",
       "    <tr>\n",
       "      <th>Visual_tectofugal</th>\n",
       "      <td>Visual_tectofugal</td>\n",
       "    </tr>\n",
       "  </tbody>\n",
       "</table>\n",
       "</div>"
      ],
      "text/plain": [
       "                                                                                                type_\n",
       "Slu-ipc-imc-left                                                                     Slu-ipc-imc-left\n",
       "Rotundus                                                                                     Rotundus\n",
       "Tectum-right                                                                             Tectum-right\n",
       "Wulst_ha_hi_hd-frontal-from-a13                                       Wulst_ha_hi_hd-frontal-from-a13\n",
       "Gld-and-rotundus                                                                     Gld-and-rotundus\n",
       "Nbor-lentiformis-mesencephali                                           Nbor-lentiformis-mesencephali\n",
       "Isthmo-opticus                                                                         Isthmo-opticus\n",
       "Gc_dlp_diva                                                                               Gc_dlp_diva\n",
       "Entopallium                                                                               Entopallium\n",
       "Prv-and-basalis                                                                       Prv-and-basalis\n",
       "Nucleus-taeniae                                                                       Nucleus-taeniae\n",
       "Slu-ipc-imc-right                                                                   Slu-ipc-imc-right\n",
       "N-pontis-medialis                                                                   N-pontis-medialis\n",
       "Brainsurface_right                                                                 Brainsurface_right\n",
       "Tectum-left                                                                               Tectum-left\n",
       "Brainsurface_left                                                                   Brainsurface_left\n",
       "Visual-wulst_ha_hi_hd-until-a13                                       Visual-wulst_ha_hi_hd-until-a13\n",
       "Ct                                                                                                 Ct\n",
       "T2                                                                                                 T2\n",
       "T2star                                                                                         T2star\n",
       "Auditory1                                                                                   Auditory1\n",
       "Auditory2                                                                                   Auditory2\n",
       "Olfactory                                                                                   Olfactory\n",
       "Visual_thalamofugal                                                               Visual_thalamofugal\n",
       "Somatosensory_wulst                                                               Somatosensory_wulst\n",
       "Somatosensory_spinal_system_and_body_representa...  Somatosensory_spinal_system_and_body_represent...\n",
       "Somatosensory_trigeminal                                                     Somatosensory_trigeminal\n",
       "Hippocampus                                                                               Hippocampus\n",
       "Visual_isthmic                                                                         Visual_isthmic\n",
       "Arcopallium                                                                               Arcopallium\n",
       "Visual_wulst                                                                             Visual_wulst\n",
       "Visual_aos                                                                                 Visual_aos\n",
       "Brain                                                                                           Brain\n",
       "Nucleus_taeniae                                                                       Nucleus_taeniae\n",
       "Visual_tectofugal                                                                   Visual_tectofugal"
      ]
     },
     "execution_count": 9,
     "metadata": {},
     "output_type": "execute_result"
    }
   ],
   "source": [
    "pigeon_atlas.voxel_data[['type_']]"
   ]
  },
  {
   "cell_type": "code",
   "execution_count": 4,
   "metadata": {
    "ExecuteTime": {
     "end_time": "2019-03-15T21:37:50.945135Z",
     "start_time": "2019-03-15T21:37:50.615392Z"
    }
   },
   "outputs": [],
   "source": [
    "# The T2 voxels in this dataset are not the same as the delineations for some reason... as a temporary fix I just cut off 1 voxel...\n",
    "pigeon_atlas.voxel_data.loc['T2', 'voxels'] = pigeon_atlas.voxel_data.loc['T2', 'voxels'][:,:,1:]"
   ]
  },
  {
   "cell_type": "code",
   "execution_count": 5,
   "metadata": {
    "ExecuteTime": {
     "end_time": "2019-03-15T21:37:50.953272Z",
     "start_time": "2019-03-15T21:37:50.947515Z"
    }
   },
   "outputs": [
    {
     "name": "stdout",
     "output_type": "stream",
     "text": [
      "['Arcopallium' 'Auditory1' 'Auditory2' 'Olfactory'\n",
      " 'Somatosensory_spinal_system_and_body_representation'\n",
      " 'Somatosensory_trigeminal' 'Somatosensory_wulst' 'Visual_aos'\n",
      " 'Visual_isthmic' 'Visual_thalamofugal' 'Visual_wulst']\n",
      "['Angularis' 'Arcopallium MLd' 'Basalis' 'Cortex piriformis'\n",
      " 'Cortex prepiriformis' 'Cuneatus Gracilis' 'DIVA' 'DLP' 'Field L2'\n",
      " 'GLd_left' 'GLd_right' 'Globus pallidus' 'HA' 'HI - HD' 'HI -HD' 'Imc'\n",
      " 'Ipc' 'LLd' 'LLv' 'Laminaris' 'Lentiformis mesencephali'\n",
      " 'Magnocellularis' 'N. taeniae amygdala (see olfactory system)'\n",
      " 'Olfactory Bulb' 'Oliva superior' 'Ovoidalis' 'PrV' 'Rotundus' 'SLu'\n",
      " 'Striatum' 'nBOR']\n"
     ]
    }
   ],
   "source": [
    "# the only delineation for zebra finch is nuclei\n",
    "print(np.unique(list(pigeon_atlas.brain_labels.type_)))\n",
    "print(np.unique(list(pigeon_atlas.brain_labels.index)))"
   ]
  },
  {
   "cell_type": "code",
   "execution_count": 6,
   "metadata": {
    "ExecuteTime": {
     "end_time": "2019-03-15T21:37:51.048789Z",
     "start_time": "2019-03-15T21:37:50.954848Z"
    }
   },
   "outputs": [
    {
     "data": {
      "text/plain": [
       "array(['Arcopallium', 'Auditory1', 'Auditory2', 'Olfactory',\n",
       "       'Somatosensory_spinal_system_and_body_representation',\n",
       "       'Somatosensory_trigeminal', 'Somatosensory_wulst', 'Visual_aos',\n",
       "       'Visual_isthmic', 'Visual_thalamofugal', 'Visual_wulst'],\n",
       "      dtype=object)"
      ]
     },
     "execution_count": 6,
     "metadata": {},
     "output_type": "execute_result"
    }
   ],
   "source": [
    "# all of the different subsets of delineations available \n",
    "all_r2p = np.unique(pigeon_atlas.region_vox.type_)\n",
    "all_r2p"
   ]
  },
  {
   "cell_type": "code",
   "execution_count": 7,
   "metadata": {
    "ExecuteTime": {
     "end_time": "2019-03-15T21:37:51.205556Z",
     "start_time": "2019-03-15T21:37:51.050283Z"
    }
   },
   "outputs": [
    {
     "name": "stdout",
     "output_type": "stream",
     "text": [
      "{'medial-lateral': 0, 'anterior-posterior': 0, 'dorsal-ventral': 0}\n"
     ]
    },
    {
     "data": {
      "application/vnd.jupyter.widget-view+json": {
       "model_id": "058bf3cf967c490fa5af76134ef90739",
       "version_major": 2,
       "version_minor": 0
      },
      "text/plain": [
       "FloatSlider(value=0.0, description='medial-lateral:', max=10080.0, min=-10320.0, step=100.0)"
      ]
     },
     "metadata": {},
     "output_type": "display_data"
    },
    {
     "data": {
      "application/vnd.jupyter.widget-view+json": {
       "model_id": "1bfccb5b4510429098e8731a7ed1947a",
       "version_major": 2,
       "version_minor": 0
      },
      "text/plain": [
       "FloatSlider(value=0.0, description='posterior-anterior:', max=18240.0, min=-6320.0, step=100.0)"
      ]
     },
     "metadata": {},
     "output_type": "display_data"
    },
    {
     "data": {
      "application/vnd.jupyter.widget-view+json": {
       "model_id": "cb8d5d82830e47c68006f4fa0ccd847b",
       "version_major": 2,
       "version_minor": 0
      },
      "text/plain": [
       "FloatSlider(value=0.0, description='ventral-dorsal:', max=17600.0, min=-2200.0, step=100.0)"
      ]
     },
     "metadata": {},
     "output_type": "display_data"
    },
    {
     "data": {
      "application/vnd.jupyter.widget-view+json": {
       "model_id": "695c29ad7631455f8c25f7cda837b654",
       "version_major": 2,
       "version_minor": 0
      },
      "text/plain": [
       "Dropdown(description='Region:', index=32, options=('Striatum', 'Globus pallidus', 'N. taeniae amygdala (see ol…"
      ]
     },
     "metadata": {},
     "output_type": "display_data"
    },
    {
     "data": {
      "application/vnd.jupyter.widget-view+json": {
       "model_id": "57f70bb0038043679ebedf2ba98b0dc0",
       "version_major": 2,
       "version_minor": 0
      },
      "text/plain": [
       "Button(description='Generate graph', style=ButtonStyle())"
      ]
     },
     "metadata": {},
     "output_type": "display_data"
    },
    {
     "data": {
      "image/png": "[encoded data removed]",
      "text/plain": [
       "<Figure size 864x864 with 4 Axes>"
      ]
     },
     "metadata": {
      "needs_background": "light"
     },
     "output_type": "display_data"
    }
   ],
   "source": [
    "widget_controllers_2d(pigeon_atlas, regions_to_plot=all_r2p, brain_masked_image='T2');"
   ]
  },
  {
   "cell_type": "code",
   "execution_count": null,
   "metadata": {},
   "outputs": [],
   "source": []
  },
  {
   "cell_type": "code",
   "execution_count": null,
   "metadata": {},
   "outputs": [],
   "source": []
  },
  {
   "cell_type": "code",
   "execution_count": null,
   "metadata": {},
   "outputs": [],
   "source": []
  }
 ],
 "metadata": {
  "kernelspec": {
   "display_name": "Python 3",
   "language": "python",
   "name": "python3"
  },
  "language_info": {
   "codemirror_mode": {
    "name": "ipython",
    "version": 3
   },
   "file_extension": ".py",
   "mimetype": "text/x-python",
   "name": "python",
   "nbconvert_exporter": "python",
   "pygments_lexer": "ipython3",
   "version": "3.6.8"
  }
 },
 "nbformat": 4,
 "nbformat_minor": 2
}
