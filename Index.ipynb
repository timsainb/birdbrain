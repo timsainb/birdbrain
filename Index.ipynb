{
 "cells": [
  {
   "cell_type": "markdown",
   "metadata": {},
   "source": [
    "### Instructions for use:"
   ]
  },
  {
   "cell_type": "markdown",
   "metadata": {},
   "source": [
    "- Each birds repository begins with a jupyter notebooks labeled 0.0-get-*species*-data. \n",
    "- When using the binder notebook version of the repository (linked on [GitHub](https://mybinder.org/v2/gh/timsainb/birdbrain/master?filepath=Index.ipynb)), you must first run this to download the data."
   ]
  },
  {
   "cell_type": "code",
   "execution_count": 4,
   "metadata": {
    "ExecuteTime": {
     "end_time": "2019-02-20T21:13:03.092580Z",
     "start_time": "2019-02-20T21:13:03.082684Z"
    }
   },
   "outputs": [
    {
     "data": {
      "text/markdown": [
       "### European Starling\n",
       "-  <a href='notebooks/starling/0.0-get-starling-data.ipynb' target='_blank'>/starling/0.0-get-starling-data</a>\n",
       "-  <a href='notebooks/starling/0.1-find_y_sinus.ipynb' target='_blank'>/starling/0.1-find y sinus</a>\n",
       "-  <a href='notebooks/starling/1.0-starling-brain-atlas-transections.ipynb' target='_blank'>/starling/1.0-starling-brain-atlas-transections</a>\n",
       "-  <a href='notebooks/starling/2.0-starling-brain-atlas-view-nuclei.ipynb' target='_blank'>/starling/2.0-starling-brain-atlas-view-nuclei</a>\n",
       "-  <a href='notebooks/starling/3.0-3d-plot-brain.ipynb' target='_blank'>/starling/3.0-3d-plot-brain</a>"
      ],
      "text/plain": [
       "<IPython.core.display.Markdown object>"
      ]
     },
     "execution_count": 4,
     "metadata": {},
     "output_type": "execute_result"
    }
   ],
   "source": [
    "from IPython.display import Markdown\n",
    "from glob import glob\n",
    "\n",
    "Markdown(\"\\n\".join(\n",
    "    ['### European Starling'] + [\n",
    "        \"-  <a href='{1}' target='_blank'>{0}</a>\".format(\n",
    "            x[9:-6].replace(\"_\", \" \"), x)\n",
    "        for x in sorted(glob(\"notebooks/starling/*.ipynb\"))\n",
    "    ]\n",
    ")\n",
    ")"
   ]
  },
  {
   "cell_type": "code",
   "execution_count": null,
   "metadata": {},
   "outputs": [],
   "source": []
  }
 ],
 "metadata": {
  "kernelspec": {
   "display_name": "Python 3",
   "language": "python",
   "name": "python3"
  },
  "language_info": {
   "codemirror_mode": {
    "name": "ipython",
    "version": 3
   },
   "file_extension": ".py",
   "mimetype": "text/x-python",
   "name": "python",
   "nbconvert_exporter": "python",
   "pygments_lexer": "ipython3",
   "version": "3.6.8"
  }
 },
 "nbformat": 4,
 "nbformat_minor": 2
}
